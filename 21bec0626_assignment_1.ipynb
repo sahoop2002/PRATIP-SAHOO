{
  "nbformat": 4,
  "nbformat_minor": 0,
  "metadata": {
    "colab": {
      "provenance": [],
      "authorship_tag": "ABX9TyPt9lKn8RJBwHzdg6xJj5Fp",
      "include_colab_link": true
    },
    "kernelspec": {
      "name": "python3",
      "display_name": "Python 3"
    },
    "language_info": {
      "name": "python"
    }
  },
  "cells": [
    {
      "cell_type": "markdown",
      "metadata": {
        "id": "view-in-github",
        "colab_type": "text"
      },
      "source": [
        "<a href=\"https://colab.research.google.com/github/sahoop2002/PRATIP-SAHOO/blob/main/21bec0626_assignment_1.ipynb\" target=\"_parent\"><img src=\"https://colab.research.google.com/assets/colab-badge.svg\" alt=\"Open In Colab\"/></a>"
      ]
    },
    {
      "cell_type": "code",
      "execution_count": null,
      "metadata": {
        "colab": {
          "base_uri": "https://localhost:8080/"
        },
        "id": "oA-YMaj8ldnX",
        "outputId": "b586c108-8102-4725-b92e-b4b85713ecf4"
      },
      "outputs": [
        {
          "output_type": "stream",
          "name": "stdout",
          "text": [
            "   Feature1  Feature2  Feature3  Feature4\n",
            "0  0.374540  0.950714  0.731994  0.598658\n",
            "1  0.156019  0.155995  0.058084  0.866176\n",
            "2  0.601115  0.708073  0.020584  0.969910\n",
            "3  0.832443  0.212339  0.181825  0.183405\n"
          ]
        }
      ],
      "source": [
        "import numpy as np\n",
        "import pandas as pd\n",
        "# Set random seed for reproducibility\n",
        "np.random.seed(42)\n",
        "# Create random data\n",
        "data = np.random.rand(4, 4)\n",
        "# Create a DataFrame\n",
        "df = pd.DataFrame(data, columns=['Feature1', 'Feature2', 'Feature3',\n",
        "'Feature4'])\n",
        "print(df)"
      ]
    },
    {
      "cell_type": "markdown",
      "source": [],
      "metadata": {
        "id": "nEb7LEsFl2XV"
      }
    },
    {
      "cell_type": "code",
      "source": [
        "import numpy as np\n",
        "import pandas as pd\n",
        "# Set random seed for reproducibility\n",
        "np.random.seed(42)\n",
        "# Create random data\n",
        "data = np.random.rand(4, 4)\n",
        "# Create a DataFrame\n",
        "df = pd.DataFrame(data, columns=['Feature1', 'Feature2', 'Feature3',\n",
        "'Feature4'])\n",
        "# Rename the columns\n",
        "new_column_names = {\n",
        "'Feature1': 'Random value 1',\n",
        "'Feature2': 'Random value 2',\n",
        "'Feature3': 'Random value 3',\n",
        "'Feature4': 'Random value 4'\n",
        "}\n",
        "df.rename(columns=new_column_names, inplace=True)\n",
        "print(df)\n"
      ],
      "metadata": {
        "colab": {
          "base_uri": "https://localhost:8080/"
        },
        "id": "rIn65k64mIt8",
        "outputId": "9e41ec4e-7ae6-48a4-b60e-8172977de380"
      },
      "execution_count": null,
      "outputs": [
        {
          "output_type": "stream",
          "name": "stdout",
          "text": [
            "   Random value 1  Random value 2  Random value 3  Random value 4\n",
            "0        0.374540        0.950714        0.731994        0.598658\n",
            "1        0.156019        0.155995        0.058084        0.866176\n",
            "2        0.601115        0.708073        0.020584        0.969910\n",
            "3        0.832443        0.212339        0.181825        0.183405\n"
          ]
        }
      ]
    },
    {
      "cell_type": "code",
      "source": [
        "import numpy as np\n",
        "import pandas as pd\n",
        "# Set random seed for reproducibility\n",
        "np.random.seed(42)\n",
        "# Create random data\n",
        "data = np.random.rand(4, 4)\n",
        "# Create a DataFrame\n",
        "df = pd.DataFrame(data, columns=['Feature1', 'Feature2', 'Feature3',\n",
        "'Feature4'])\n",
        "# Rename the columns\n",
        "new_column_names = {\n",
        "'Feature1': 'Random value 1',\n",
        "'Feature2': 'Random value 2',\n",
        "'Feature3': 'Random value 3',\n",
        "'Feature4': 'Random value 4'\n",
        "}\n",
        "df.rename(columns=new_column_names, inplace=True)\n",
        "# Get descriptive statistics\n",
        "descriptive_stats = df.describe()\n",
        "print(descriptive_stats)"
      ],
      "metadata": {
        "colab": {
          "base_uri": "https://localhost:8080/"
        },
        "id": "0vDcnOG-mRnD",
        "outputId": "b54bb4a6-408f-43ce-b101-fb0cee2ed25a"
      },
      "execution_count": null,
      "outputs": [
        {
          "output_type": "stream",
          "name": "stdout",
          "text": [
            "       Random value 1  Random value 2  Random value 3  Random value 4\n",
            "count        4.000000        4.000000        4.000000        4.000000\n",
            "mean         0.491029        0.506780        0.248122        0.654537\n",
            "std          0.291252        0.386153        0.329856        0.350875\n",
            "min          0.156019        0.155995        0.020584        0.183405\n",
            "25%          0.319910        0.198253        0.048709        0.494845\n",
            "50%          0.487828        0.460206        0.119954        0.732417\n",
            "75%          0.658947        0.768733        0.319367        0.892110\n",
            "max          0.832443        0.950714        0.731994        0.969910\n"
          ]
        }
      ]
    },
    {
      "cell_type": "code",
      "source": [
        "import numpy as np\n",
        "import pandas as pd\n",
        "# Set random seed for reproducibility\n",
        "np.random.seed(42)\n",
        "# Create random data\n",
        "data = np.random.rand(4, 4)\n",
        "# Create a DataFrame\n",
        "df = pd.DataFrame(data, columns=['Feature1', 'Feature2', 'Feature3',\n",
        "'Feature4'])\n",
        "# Rename the columns\n",
        "new_column_names = {\n",
        "'Feature1': 'Random value 1',\n",
        "'Feature2': 'Random value 2',\n",
        "'Feature3': 'Random value 3',\n",
        "'Feature4': 'Random value 4'\n",
        "}\n",
        "df.rename(columns=new_column_names, inplace=True)\n",
        "# Check for null values\n",
        "null_values = df.isnull().sum()\n",
        "# Find data types of columns\n",
        "data_types = df.dtypes\n",
        "print(\"Null Values:\")\n",
        "print(null_values)\n",
        "print(\"\\nData Types:\")\n",
        "print(data_types)\n"
      ],
      "metadata": {
        "colab": {
          "base_uri": "https://localhost:8080/"
        },
        "id": "R8xtpDO3mXzF",
        "outputId": "3960bddd-606a-47d7-fb09-ce809a61b9f5"
      },
      "execution_count": null,
      "outputs": [
        {
          "output_type": "stream",
          "name": "stdout",
          "text": [
            "Null Values:\n",
            "Random value 1    0\n",
            "Random value 2    0\n",
            "Random value 3    0\n",
            "Random value 4    0\n",
            "dtype: int64\n",
            "\n",
            "Data Types:\n",
            "Random value 1    float64\n",
            "Random value 2    float64\n",
            "Random value 3    float64\n",
            "Random value 4    float64\n",
            "dtype: object\n"
          ]
        }
      ]
    },
    {
      "cell_type": "code",
      "source": [
        "import numpy as np\n",
        "import pandas as pd\n",
        "# Set random seed for reproducibility\n",
        "np.random.seed(42)\n",
        "# Create random data\n",
        "data = np.random.rand(4, 4)\n",
        "# Create a DataFrame\n",
        "df = pd.DataFrame(data, columns=['Feature1', 'Feature2', 'Feature3', 'Feature4'])\n",
        "# Rename the columns\n",
        "new_column_names = {\n",
        " 'Feature1': 'Random value 1',\n",
        " 'Feature2': 'Random value 2',\n",
        " 'Feature3': 'Random value 3',\n",
        " 'Feature4': 'Random value 4'\n",
        "}\n",
        "df.rename(columns=new_column_names, inplace=True)\n",
        "# Access columns using .loc[]\n",
        "random_value_2_3_loc = df.loc[:, ['Random value 2', 'Random value 3']]\n",
        "# Access columns using .iloc[]\n",
        "random_value_2_3_iloc = df.iloc[:, [1, 2]]\n",
        "print(\"Using .loc[]:\")\n",
        "print(random_value_2_3_loc)\n",
        "print(\"\\nUsing .iloc[]:\")\n",
        "print(random_value_2_3_iloc)\n"
      ],
      "metadata": {
        "colab": {
          "base_uri": "https://localhost:8080/"
        },
        "id": "UxWSrTipmhLX",
        "outputId": "95d37a9c-6da7-4769-bdeb-b9d5a14c5d57"
      },
      "execution_count": null,
      "outputs": [
        {
          "output_type": "stream",
          "name": "stdout",
          "text": [
            "Using .loc[]:\n",
            "   Random value 2  Random value 3\n",
            "0        0.950714        0.731994\n",
            "1        0.155995        0.058084\n",
            "2        0.708073        0.020584\n",
            "3        0.212339        0.181825\n",
            "\n",
            "Using .iloc[]:\n",
            "   Random value 2  Random value 3\n",
            "0        0.950714        0.731994\n",
            "1        0.155995        0.058084\n",
            "2        0.708073        0.020584\n",
            "3        0.212339        0.181825\n"
          ]
        }
      ]
    }
  ]
}